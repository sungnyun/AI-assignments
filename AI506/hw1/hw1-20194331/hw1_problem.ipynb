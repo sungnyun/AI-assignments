{
 "cells": [
  {
   "cell_type": "code",
   "execution_count": 1,
   "metadata": {},
   "outputs": [],
   "source": [
    "import numpy as np\n",
    "import matplotlib.pyplot as plt\n",
    "from sklearn import datasets\n",
    "from tqdm import tqdm\n",
    "\n",
    "from collections import defaultdict\n",
    "from itertools import combinations\n",
    "import re\n",
    "import time"
   ]
  },
  {
   "cell_type": "code",
   "execution_count": 2,
   "metadata": {},
   "outputs": [],
   "source": [
    "### You may import any Python's standard library here (Do not import other external libraries) ###\n"
   ]
  },
  {
   "cell_type": "code",
   "execution_count": 3,
   "metadata": {},
   "outputs": [],
   "source": [
    "pass_test1_1_1 = False\n",
    "pass_test1_1_2 = False\n",
    "pass_test1_2 = False\n",
    "pass_test2_1 = False\n",
    "pass_test2_2 = False"
   ]
  },
  {
   "cell_type": "markdown",
   "metadata": {},
   "source": [
    "## Implementing LSH algorithm"
   ]
  },
  {
   "cell_type": "markdown",
   "metadata": {},
   "source": [
    "### 0. Dataset"
   ]
  },
  {
   "cell_type": "markdown",
   "metadata": {},
   "source": [
    "#### 0.1 Import 20-news dataset"
   ]
  },
  {
   "cell_type": "code",
   "execution_count": 4,
   "metadata": {},
   "outputs": [],
   "source": [
    "newsgroup_dataset = datasets.fetch_20newsgroups(data_home='./dataset/', subset='train', \n",
    "                                                remove=('headers', 'footers', 'quotes'), download_if_missing=True)"
   ]
  },
  {
   "cell_type": "code",
   "execution_count": 5,
   "metadata": {},
   "outputs": [
    {
     "data": {
      "text/plain": [
       "11314"
      ]
     },
     "execution_count": 5,
     "metadata": {},
     "output_type": "execute_result"
    }
   ],
   "source": [
    "raw_documents = newsgroup_dataset['data'][:]\n",
    "len(raw_documents)"
   ]
  },
  {
   "cell_type": "code",
   "execution_count": 6,
   "metadata": {},
   "outputs": [
    {
     "data": {
      "text/plain": [
       "'I was wondering if anyone out there could enlighten me on this car I saw\\nthe other day. It was a 2-door sports car, looked to be from the late 60s/\\nearly 70s. It was called a Bricklin. The doors were really small. In addition,\\nthe front bumper was separate from the rest of the body. This is \\nall I know. If anyone can tellme a model name, engine specs, years\\nof production, where this car is made, history, or whatever info you\\nhave on this funky looking car, please e-mail.'"
      ]
     },
     "execution_count": 6,
     "metadata": {},
     "output_type": "execute_result"
    }
   ],
   "source": [
    "raw_documents[0]"
   ]
  },
  {
   "cell_type": "markdown",
   "metadata": {},
   "source": [
    "#### 0.2 Preprocess the documents"
   ]
  },
  {
   "cell_type": "code",
   "execution_count": 7,
   "metadata": {},
   "outputs": [],
   "source": [
    "K = 5  # number of word tokens to shinlge"
   ]
  },
  {
   "cell_type": "code",
   "execution_count": 8,
   "metadata": {},
   "outputs": [],
   "source": [
    "def preprocess(documents):\n",
    "    processed_words = defaultdict(list)\n",
    "    cnt = 0\n",
    "    \n",
    "    for doc in documents:\n",
    "        # first, filter out some uncesseary symbols like punctuations\n",
    "        doc = re.sub('\\/|\\-|\\'|\\@|\\%|\\$|\\#|\\,|\\(|\\)|\\}|\\\"|\\{|\\?|\\.|\\!|\\;|\\:', '', doc)\n",
    "        \n",
    "        # second, split the document into the words\n",
    "        for word in doc.split():\n",
    "            \n",
    "            # third, let word to be the lower-case\n",
    "            if word.isalpha():\n",
    "                processed_words[cnt].append(word.lower())\n",
    "        \n",
    "        # fourth, filter out the articles that has less than k shingles\n",
    "        if len(processed_words[cnt]) < K:\n",
    "            continue\n",
    "        else:\n",
    "            processed_words[cnt] = ' '.join(processed_words[cnt])\n",
    "            cnt += 1\n",
    "\n",
    "    return list(processed_words.values())"
   ]
  },
  {
   "cell_type": "code",
   "execution_count": 9,
   "metadata": {},
   "outputs": [
    {
     "data": {
      "text/plain": [
       "10882"
      ]
     },
     "execution_count": 9,
     "metadata": {},
     "output_type": "execute_result"
    }
   ],
   "source": [
    "documents = preprocess(raw_documents)\n",
    "del raw_documents\n",
    "len(documents)"
   ]
  },
  {
   "cell_type": "code",
   "execution_count": 10,
   "metadata": {},
   "outputs": [
    {
     "data": {
      "text/plain": [
       "'i was wondering if anyone out there could enlighten me on this car i saw the other day it was a sports car looked to be from the late early it was called a bricklin the doors were really small in addition the front bumper was separate from the rest of the body this is all i know if anyone can tellme a model name engine specs years of production where this car is made history or whatever info you have on this funky looking car please email'"
      ]
     },
     "execution_count": 10,
     "metadata": {},
     "output_type": "execute_result"
    }
   ],
   "source": [
    "documents[0]"
   ]
  },
  {
   "cell_type": "markdown",
   "metadata": {},
   "source": [
    "### 1. Shingling"
   ]
  },
  {
   "cell_type": "code",
   "execution_count": 11,
   "metadata": {},
   "outputs": [],
   "source": [
    "########################################################################################################################\n",
    "# Programming 1  [15pt]                                                                                                #\n",
    "#  In this section, you will implement the shingling algorithm to convert the document into the characteristic matrix. #\n",
    "#  However, since storing the whole characteristic matrix in the form of a dense matrix is expensivein terms of space, #\n",
    "#    your implementation should store the characteristic matrix in the form of a dictionary.                           #\n",
    "#                                                                                                                      #\n",
    "#    i) get the all unique shingles from the documents [10pt]                                                          #\n",
    "#   ii) create the dictionary that maps each document to the list of shingles [5pt]                                    #\n",
    "#                                                                                                                      #\n",
    "#  Note that, shingling is divided into 2-steps just for the readability of the algorithm                              #\n",
    "#                                                                                                                      #\n",
    "########################################################################################################################"
   ]
  },
  {
   "cell_type": "markdown",
   "metadata": {},
   "source": [
    "#### 1.1 Get Shingles from the documents"
   ]
  },
  {
   "cell_type": "code",
   "execution_count": 12,
   "metadata": {},
   "outputs": [],
   "source": [
    "def get_shingles(documents):\n",
    "    ######################################################################################\n",
    "    # Programming 1.1  [10pt]                                                            #\n",
    "    #  Implement 'get_shingles' function to get 1-singles from the preprocessed documents  #\n",
    "    #  You should especially be take care of your algorithm's computational efficiency   #\n",
    "    #                                                                                    #\n",
    "    #  Parameters:                                                                       #\n",
    "    #    documents (dict)                                                                #\n",
    "    #                                                                                    #\n",
    "    #  Returns:                                                                          #\n",
    "    #    shingles (set) set of tuples where each element is a k-shingle                  #\n",
    "    #    ex) shingles = {('its', 'hard', 'to', 'say', 'whether'),                        #\n",
    "    #                    ('known', 'bugs', 'in', 'the', 'warning') ...}                  #\n",
    "    ######################################################################################\n",
    "    shingles = set()\n",
    "    for doc in documents:\n",
    "        doc_split = doc.split()\n",
    "        for i in range(len(doc_split) - (K-1)):\n",
    "            shingles.add(tuple(doc_split[i:i+K]))\n",
    "            \n",
    "    return shingles"
   ]
  },
  {
   "cell_type": "code",
   "execution_count": 13,
   "metadata": {},
   "outputs": [
    {
     "name": "stdout",
     "output_type": "stream",
     "text": [
      "Test1 passed\n",
      "Test2 passed\n"
     ]
    }
   ],
   "source": [
    "start = time.time()\n",
    "shingles = get_shingles(documents)\n",
    "end = time.time()\n",
    "\n",
    "# Check whether your implementation is correct [5pt]\n",
    "if len(shingles) == 1766049:\n",
    "    pass_test1_1_1 = True\n",
    "    print('Test1 passed')\n",
    "    \n",
    "    # Check whether your implementation is efficient enough [5pt]\n",
    "    # With 4-lines of my implementations, it took 4.8 seconds with i7-8700 cpu\n",
    "    if (end - start) < 20:\n",
    "        pass_test1_1_2 = True\n",
    "        print('Test2 passed')\n",
    "        "
   ]
  },
  {
   "cell_type": "code",
   "execution_count": 14,
   "metadata": {},
   "outputs": [
    {
     "name": "stdout",
     "output_type": "stream",
     "text": [
      "1.0299334526062012\n"
     ]
    }
   ],
   "source": [
    "print(end - start)"
   ]
  },
  {
   "cell_type": "markdown",
   "metadata": {},
   "source": [
    "#### 1.2 Build document to shingles dictionary"
   ]
  },
  {
   "cell_type": "code",
   "execution_count": 15,
   "metadata": {},
   "outputs": [],
   "source": [
    "def build_doc_to_shingle_dictionary(documents, shingles):\n",
    "    ################################################################################################################################\n",
    "    # Programming 1.2 [5pt]                                                                                                        #\n",
    "    #  Implement 'build_doc_to_shingle_dictionary' function to convert documents into shingle dictionary with documents & shingles #\n",
    "    #   You need to construct and utilize a shingle2idx dictionary that maps each shingle into the uniuqe integer index.           #\n",
    "    #                                                                                                                              #\n",
    "    #  Parameters:                                                                                                                 #\n",
    "    #    documents (dict)                                                                                                          #                                               \n",
    "    #    shingles (set)                                                                                                            #          \n",
    "    #                                                                                                                              #\n",
    "    #  Returns:                                                                                                                    #\n",
    "    #    doc_to_shingles (dict)                                                                                                    #\n",
    "    #        key: index of the documents                                                                                           #\n",
    "    #        value: list of the shingle indexes                                                                                    #\n",
    "    #        ex) doc_to_shingles = {0: [1705196, 422880, 491967, ...],                                                             #\n",
    "    #                               1: [863922, 1381606, 1524066, ...],                                                            #\n",
    "    #                               ... }                                                                                          #\n",
    "    ################################################################################################################################\n",
    "    doc_to_shingles = {}\n",
    "    shingle2idx = {}\n",
    "    for idx, shingle in enumerate(shingles):\n",
    "        shingle2idx[shingle] = idx\n",
    "    for idx, doc in enumerate(documents):\n",
    "        shingle_list = [shingle2idx[s] for s in get_shingles([doc])]\n",
    "        doc_to_shingles[idx] = shingle_list\n",
    "        \n",
    "    return doc_to_shingles"
   ]
  },
  {
   "cell_type": "code",
   "execution_count": 16,
   "metadata": {},
   "outputs": [
    {
     "name": "stdout",
     "output_type": "stream",
     "text": [
      "Test passed\n"
     ]
    }
   ],
   "source": [
    "doc_to_shingles = build_doc_to_shingle_dictionary(documents, shingles)\n",
    "\n",
    "# Check whether your implementation is correct [5pt]\n",
    "if len(doc_to_shingles) == 10882 and len(doc_to_shingles[0]) == 84:\n",
    "    pass_test1_2 = True\n",
    "    print('Test passed')"
   ]
  },
  {
   "cell_type": "markdown",
   "metadata": {},
   "source": [
    "### 2. Min-Hashing"
   ]
  },
  {
   "cell_type": "code",
   "execution_count": 17,
   "metadata": {},
   "outputs": [],
   "source": [
    "############################################################################################################################\n",
    "# Programming 2  [25pt]                                                                                                    #\n",
    "#  In this section, you will implement the min-hashing algorithm to convert the characteristic matrix into the signatures. #\n",
    "#                                                                                                                          #\n",
    "#    i) implement the jaccard-similarity algorithm [5pt]                                                                   #\n",
    "#   ii) implement the min-hash algorithm to create the signatures for the documents [20pt]                                 #\n",
    "#                                                                                                                          #\n",
    "############################################################################################################################"
   ]
  },
  {
   "cell_type": "markdown",
   "metadata": {},
   "source": [
    "#### 2.1 Generate Prime numbers for Universal Hashing"
   ]
  },
  {
   "cell_type": "code",
   "execution_count": 18,
   "metadata": {},
   "outputs": [],
   "source": [
    "def is_prime(n):\n",
    "    for i in range(2,int(np.sqrt(n))+1):\n",
    "        if not n % i:\n",
    "            return False\n",
    "    return True\n",
    "\n",
    "def generate_prime_numbers(M, N):\n",
    "    # this function generate the M prime numbers where each prime number is greater than N\n",
    "    primes = []\n",
    "    cnt = 0\n",
    "    n = N + 1\n",
    "    \n",
    "    while cnt < M:\n",
    "        if is_prime(n):\n",
    "            primes.append(n)\n",
    "            cnt += 1\n",
    "        n += 1\n",
    "    return primes"
   ]
  },
  {
   "cell_type": "code",
   "execution_count": 19,
   "metadata": {},
   "outputs": [
    {
     "data": {
      "text/plain": [
       "[5, 7, 11]"
      ]
     },
     "execution_count": 19,
     "metadata": {},
     "output_type": "execute_result"
    }
   ],
   "source": [
    "# Test prime number generation\n",
    "generate_prime_numbers(M = 3, N = 3)"
   ]
  },
  {
   "cell_type": "markdown",
   "metadata": {},
   "source": [
    "#### 2.2 Jaccard Similarity"
   ]
  },
  {
   "cell_type": "code",
   "execution_count": 20,
   "metadata": {},
   "outputs": [],
   "source": [
    "def jaccard_similarity(s1, s2):\n",
    "    ##################################################################################\n",
    "    # Programming 2.2 [5pt]                                                          #                                    \n",
    "    #   Implement the jaccard similarity algorithm to get the similarity of two sets #\n",
    "    #                                                                                #\n",
    "    # Parameters                                                                     #\n",
    "    #    s1 (set)                                                                    #\n",
    "    #    s2 (set)                                                                    #\n",
    "    # Returns                                                                        #\n",
    "    #    similarity (float)                                                          #\n",
    "    ##################################################################################\n",
    "    similarity = len(s1&s2) / len(s1|s2)\n",
    "    return similarity"
   ]
  },
  {
   "cell_type": "code",
   "execution_count": 21,
   "metadata": {},
   "outputs": [
    {
     "name": "stdout",
     "output_type": "stream",
     "text": [
      "Test passed\n"
     ]
    }
   ],
   "source": [
    "s1 = {1, 3, 4}\n",
    "s2 = {3, 4, 6}\n",
    "\n",
    "if (jaccard_similarity(s1, s2) - 0.5) < 1e-3:\n",
    "    pass_test2_1 = True\n",
    "    print('Test passed')"
   ]
  },
  {
   "cell_type": "markdown",
   "metadata": {},
   "source": [
    "#### 2.3 Min Hash"
   ]
  },
  {
   "cell_type": "code",
   "execution_count": 22,
   "metadata": {},
   "outputs": [],
   "source": [
    "M = 100  # Number of Hash functions to use\n",
    "N = len(shingles)\n",
    "\n",
    "# First we will create M universal hashing functions\n",
    "#  You can also modify or implement your own hash functions for implementing min_hash function\n",
    "\n",
    "class Hash():\n",
    "    def __init__(self, M, N):\n",
    "        self.M = M\n",
    "        self.N = N\n",
    "        self.p = generate_prime_numbers(M, N)\n",
    "        \n",
    "        self.a = np.random.choice(9999, M)\n",
    "        self.b = np.random.choice(9999, M)\n",
    "    \n",
    "    def __call__(self, x):\n",
    "        return np.mod(np.mod((self.a * x + self.b), self.p), self.N)\n",
    "    \n",
    "    def __len__(self):\n",
    "        return M\n",
    "        \n",
    "#primes = generate_prime_numbers(M, N)\n",
    "hash_functions = Hash(M, N)"
   ]
  },
  {
   "cell_type": "code",
   "execution_count": 24,
   "metadata": {},
   "outputs": [],
   "source": [
    "def min_hash(doc_to_shingles, hash_functions):\n",
    "    ###########################################################################################\n",
    "    # Programming 2.3 [20pt]                                                                  #                                    \n",
    "    #   Implement the min-hash algorithm to create the signatures for the documents           #\n",
    "    #   It would take about ~10 minutes to finish computation,                                #\n",
    "    #      while would take ~20 seconds if you parallelize your hash functions                #                      \n",
    "    #                                                                                         #\n",
    "    #  Parameters                                                                             #\n",
    "    #     doc_to_shingles: (dict) dictionary that maps each document to the list of shingles  #\n",
    "    #     hash_functions: [list] list of hash functions                                       #\n",
    "    #  Returns                                                                                #\n",
    "    #     signatures (np.array) numpy array of size (M, C) where C is the number of documents #\n",
    "    #                                                                                         #\n",
    "    ###########################################################################################\n",
    "    \n",
    "    C = len(doc_to_shingles)\n",
    "    M = len(hash_functions)\n",
    "    signatures = np.array(np.ones((M, C)) * 999999999999, dtype = np.int)\n",
    "    \n",
    "    for doc_id in range(C):\n",
    "        shingles = doc_to_shingles[doc_id]\n",
    "        for shingle in shingles:\n",
    "            hash_shingle = hash_functions(shingle)\n",
    "            signatures[:,doc_id] = np.where(hash_shingle < signatures[:,doc_id], hash_shingle, signatures[:,doc_id])\n",
    "         \n",
    "    return signatures"
   ]
  },
  {
   "cell_type": "code",
   "execution_count": 25,
   "metadata": {},
   "outputs": [],
   "source": [
    "def compare(signatures, doc_to_shingles, trials = 10000):\n",
    "    M, C = signatures.shape\n",
    "    diff_list = []\n",
    "    \n",
    "    for t in tqdm(range(trials)):\n",
    "        doc1, doc2 = np.random.choice(C, 2, replace = False)\n",
    "        \n",
    "        shingle1, shingle2 = set(doc_to_shingles[doc1]), set(doc_to_shingles[doc2])\n",
    "        sig1, sig2 = signatures[:,doc1], signatures[:,doc2]\n",
    "        \n",
    "        true_sim = jaccard_similarity(shingle1, shingle2)\n",
    "        approx_sim = sum(np.equal(sig1, sig2)) / M\n",
    "        \n",
    "        diff_list.append(abs(true_sim - approx_sim))\n",
    "        \n",
    "    return diff_list"
   ]
  },
  {
   "cell_type": "code",
   "execution_count": 26,
   "metadata": {},
   "outputs": [
    {
     "name": "stderr",
     "output_type": "stream",
     "text": [
      "100%|██████████| 10000/10000 [00:04<00:00, 2437.12it/s]"
     ]
    },
    {
     "name": "stdout",
     "output_type": "stream",
     "text": [
      "Test passed\n"
     ]
    },
    {
     "name": "stderr",
     "output_type": "stream",
     "text": [
      "\n"
     ]
    }
   ],
   "source": [
    "start = time.time()\n",
    "signatures = min_hash(doc_to_shingles, hash_functions)\n",
    "end = time.time()\n",
    "\n",
    "diff_list = compare(signatures, doc_to_shingles)\n",
    "\n",
    "# Check whether your implementation is correct [20pt]\n",
    "# Average difference of document's jaccard similarity between characteristic matrix and signatures should be at most 1%\n",
    "# With 10 random seeds, difference was around 1e-5 ~ 1e-6%\n",
    "if np.mean(diff_list) < 0.01:\n",
    "    pass_test2_2 = True\n",
    "    print('Test passed')"
   ]
  },
  {
   "cell_type": "markdown",
   "metadata": {},
   "source": [
    "#### 2.4 Qualitive Analysis"
   ]
  },
  {
   "cell_type": "code",
   "execution_count": 27,
   "metadata": {},
   "outputs": [
    {
     "name": "stdout",
     "output_type": "stream",
     "text": [
      "Document 3542\n",
      "i have one complaint for the cameramen doing the jerseypitt series show the shots not the hits on more than one occassion the camera zoomed in on a check along the boards while the puck was in the slot they panned back to show the rebound maybe moms camera people were a little more experienced\n",
      "-------------\n",
      "Document 8033\n",
      "i have one complaint for the cameramen doing the jerseypitt series show the shots not the hits on more than one occassion the camera zoomed in on a check along the boards while the puck was in the slot they panned back to show the rebound maybe moms camera people were a little more experienced joseph stiehm exactly that is my biggest complaint about the coverage so far follow that damn puck ravi shah\n",
      "-------------\n",
      "true jaccard similarity: 0.7285714285714285\n",
      "approx jaccard similarity: 0.74\n",
      "Do you think signature well reflects the characteristic matrix?\n"
     ]
    }
   ],
   "source": [
    "print('Document 3542')\n",
    "print(documents[3542])\n",
    "print('-------------')\n",
    "print('Document 8033')\n",
    "print(documents[8033])\n",
    "print('-------------')\n",
    "\n",
    "print('true jaccard similarity:'  ,jaccard_similarity(set(doc_to_shingles[3542]), set(doc_to_shingles[8033])))\n",
    "print('approx jaccard similarity:',sum(np.equal(signatures[:,3542], signatures[:,8033])) / M)\n",
    "print('Do you think signature well reflects the characteristic matrix?')"
   ]
  },
  {
   "cell_type": "markdown",
   "metadata": {},
   "source": [
    "### 3. Locality Sensitive Hashing"
   ]
  },
  {
   "cell_type": "code",
   "execution_count": 28,
   "metadata": {},
   "outputs": [],
   "source": [
    "########################################################################################################################\n",
    "# Programming 3  [35pt]                                                                                                #\n",
    "#  In this section, you will implement the Min-Hash based Locality Sensitive Hashing algorithm to convert signatures   #\n",
    "#  into the similar document pair candidates                                                                           #\n",
    "#  Finally, we will test our results based on the precision, recall and F1 score                                       #\n",
    "#                                                                                                                      #\n",
    "#   1) get the similar document pair candidates [20pt]                                                                 #\n",
    "#   2) calculate precision, recall, and f1 score [10pt]                                                                #\n",
    "#                                                                                                                      #\n",
    "########################################################################################################################"
   ]
  },
  {
   "cell_type": "markdown",
   "metadata": {},
   "source": [
    "#### 3.1 Min-Hash based LSH"
   ]
  },
  {
   "cell_type": "code",
   "execution_count": 29,
   "metadata": {},
   "outputs": [],
   "source": [
    "def lsh(signatures, b, r):\n",
    "    #########################################################################################################\n",
    "    # Programming 3.1 [20pt]                                                                                #\n",
    "    #   Implement the min-hash based LSH algorithm to find the candidate pairs of the similar documents.    #\n",
    "    #   In the implementation, use python's dictionary to make your hash table,                             #\n",
    "    #    where each column is hashed into a bucket.                                                          #\n",
    "    #   Convert each column vector (within a band) into the tuple and use it as a key of the dictionary.    #\n",
    "    #                                                                                                       #\n",
    "    #  Parameters                                                                                           #\n",
    "    #     signatures: (np.array) numpy array of size (M, C) where                                           #\n",
    "    #                M is the number of min-hash functions, C is the number of documents                    #\n",
    "    #     b: (int) the number of bands                                                                      #\n",
    "    #     r: (int) the number of rows per each band                                                         #\n",
    "    #                                                                                                       #\n",
    "    #  Requirements                                                                                         #\n",
    "    #     1) M should be equivalent to b * r                                                                #\n",
    "    #                                                                                                       #\n",
    "    #  Returns                                                                                              #\n",
    "    #     candidatePairs (Set[Tuple[int, int]]) set of the pairs of indexes of candidate document pairs     #\n",
    "    #                                                                                                       #\n",
    "    #########################################################################################################\n",
    "    M = signatures.shape[0]  # The number of min-hash functions\n",
    "    C = signatures.shape[1]  # The number of documents\n",
    "\n",
    "    assert M == b * r\n",
    "\n",
    "    candidatePairs = set()\n",
    "\n",
    "    # TODO: Write down your code here  \n",
    "    for num_b in range(b):\n",
    "        bucket = {}\n",
    "        bands = signatures[num_b*r:(num_b+1)*r]\n",
    "        for col in range(C):\n",
    "            if tuple(bands[:,col]) in bucket.keys():\n",
    "                bucket[tuple(bands[:,col])].append(col)\n",
    "            else:\n",
    "                bucket[tuple(bands[:,col])] = [col]\n",
    "\n",
    "        for value in bucket.values():\n",
    "            if len(value) >= 2:\n",
    "                combi = combinations(value, 2)\n",
    "                candidatePairs.update(list(combi))\n",
    "                #import ipdb; ipdb.set_trace()\n",
    "    ### Implementation End ###\n",
    "\n",
    "    return candidatePairs"
   ]
  },
  {
   "cell_type": "code",
   "execution_count": 30,
   "metadata": {},
   "outputs": [
    {
     "name": "stdout",
     "output_type": "stream",
     "text": [
      "b=10\n",
      "# of candidate pairs = 162\n",
      "0th sample pair: (1658, 5780)\n",
      "Jaccard similarity: 0.8108108108108109\n",
      "-------------\n",
      "from paynecrldeccom andrew payne messageid organization dec cambridge research lab date tue apr gmt does anyone know if a source for the modem chips as used in the baycom and my pmp modems ideally something that is geared toward hobbyists small quantity mail order etc for years weve been buying them from a distributor marshall by the hundreds for pmp kits but orders have dropped to the point where we can no longer afford to offer this service and all of the distributors ive checked have some crazy minimum order or so id like to find a source for those still interested in building pmp kits any suggestions andrew c payne dec cambridge research lab\n",
      "-------------\n",
      "does anyone know if a source for the modem chips as used in the baycom and my pmp modems ideally something that is geared toward hobbyists small quantity mail order etc for years weve been buying them from a distributor marshall by the hundreds for pmp kits but orders have dropped to the point where we can no longer afford to offer this service and all of the distributors ive checked have some crazy minimum order or so id like to find a source for those still interested in building pmp kits any suggestions\n",
      "-------------\n"
     ]
    }
   ],
   "source": [
    "# You can test your implementation here\n",
    "b = 10\n",
    "n = 0\n",
    "tmpPairs = list(lsh(signatures, b, M // b))\n",
    "print(f\"b={b}\")\n",
    "print(f\"# of candidate pairs = {len(tmpPairs)}\")\n",
    "samplePair = tmpPairs[n]\n",
    "shingle1, shingle2 = set(doc_to_shingles[samplePair[0]]), set(doc_to_shingles[samplePair[1]])\n",
    "print(f\"{n}th sample pair: {samplePair}\")\n",
    "print(f\"Jaccard similarity: {jaccard_similarity(shingle1, shingle2)}\")\n",
    "print('-------------')\n",
    "print(documents[samplePair[0]])\n",
    "print('-------------')\n",
    "print(documents[samplePair[1]])\n",
    "print('-------------')"
   ]
  },
  {
   "cell_type": "markdown",
   "metadata": {},
   "source": [
    "#### 3.2 Compute the precision, recall, and F1-score"
   ]
  },
  {
   "cell_type": "code",
   "execution_count": 31,
   "metadata": {},
   "outputs": [
    {
     "name": "stdout",
     "output_type": "stream",
     "text": [
      "The number of condition positives: 151 when s=0.8\n"
     ]
    }
   ],
   "source": [
    "# Compute the number of condition positives, which is the number of every document pair whose Jaccard similarity is greater than or equal to the threshold\n",
    "\n",
    "s = 0.8  # similarity threshold for checking condition positives\n",
    "numConditionPositives = 151 # This is the computed result when s=0.8, but I gave it to you to save your time.\n",
    "\n",
    "computeConditionPositives = False # If you want to calculate it, then change it to True. It will take 30 minutes to compute.\n",
    "if computeConditionPositives:\n",
    "    numConditionPositives = 0\n",
    "\n",
    "    numDocs = len(documents)\n",
    "    for i in tqdm(range(numDocs)):\n",
    "        shingle1 = set(doc_to_shingles[i])\n",
    "\n",
    "        for j in range(i+1, numDocs):\n",
    "            shingle2 = set(doc_to_shingles[j])\n",
    "            true_sim = jaccard_similarity(shingle1, shingle2)\n",
    "            if true_sim >= s:\n",
    "                numConditionPositives += 1\n",
    "\n",
    "print(f\"The number of condition positives: {numConditionPositives} when s={s}\")"
   ]
  },
  {
   "cell_type": "code",
   "execution_count": 32,
   "metadata": {},
   "outputs": [],
   "source": [
    "def query_analysis(signatures, b, s, numConditionPositives):\n",
    "    ###########################################################################################################\n",
    "    # Programming 3.2 [10pt]                                                                                  #\n",
    "    #   Calculate the query time, precision, recall, and F1 score for the given configuration                 #\n",
    "    #                                                                                                         #\n",
    "    #  Parameters                                                                                             #\n",
    "    #     signatures: (np.array) numpy array of size (M, C) where                                             #\n",
    "    #                M is the number of min-hash functions, C is the number of documents                      #\n",
    "    #     b: (int) the number of bands                                                                        #\n",
    "    #     s: (float) similarity threshold for checking condition positives                                    #\n",
    "    #     numConditionPositives: (int) the number of condition positives                                      #\n",
    "    #                                                                                                         #\n",
    "    #  Requirements                                                                                           #\n",
    "    #     1) b should be the divisor of M                                                                     #\n",
    "    #     2) 0 <= s <= 1                                                                                      #\n",
    "    #                                                                                                         #\n",
    "    #  Returns                                                                                                #\n",
    "    #     query time: (float) the execution time of the codes which find the similar document candidate pairs #\n",
    "    #     precision: (float)                                                                                  #\n",
    "    #     recall: (float)                                                                                     #\n",
    "    #     f1: (float) F1-Score                                                                                #\n",
    "    #                                                                                                         #\n",
    "    ###########################################################################################################\n",
    "    M = signatures.shape[0]  # The number of min-hash functions\n",
    "    assert M % b == 0\n",
    "\n",
    "    # TODO: Write down your code here\n",
    "    TP = 0\n",
    "    t = time.time()\n",
    "    candidatePairs = lsh(signatures, b, M // b)\n",
    "    query_time = time.time() - t\n",
    "\n",
    "    for pair in candidatePairs:\n",
    "        shingle1, shingle2 = set(doc_to_shingles[pair[0]]), set(doc_to_shingles[pair[1]])\n",
    "        if jaccard_similarity(shingle1, shingle2) >= s:\n",
    "            TP += 1\n",
    "        \n",
    "    precision = TP / len(candidatePairs)\n",
    "    recall = TP / numConditionPositives\n",
    "    f1 = 2 * precision * recall / (precision + recall)\n",
    "    ### Implementation End ###\n",
    "\n",
    "    return query_time, precision, recall, f1"
   ]
  },
  {
   "cell_type": "code",
   "execution_count": 33,
   "metadata": {},
   "outputs": [],
   "source": [
    "# Return the list of every divisor of given integer\n",
    "def find_divisors(x):\n",
    "    divisors = list()\n",
    "    for i in range(1, x + 1):\n",
    "        if x % i == 0:\n",
    "            divisors.append(i)\n",
    "    return divisors"
   ]
  },
  {
   "cell_type": "code",
   "execution_count": 34,
   "metadata": {},
   "outputs": [
    {
     "name": "stderr",
     "output_type": "stream",
     "text": [
      "100%|██████████| 9/9 [00:24<00:00,  2.67s/it]\n"
     ]
    }
   ],
   "source": [
    "b_list = find_divisors(M)\n",
    "\n",
    "query_time_list = list()\n",
    "precision_list = list()\n",
    "recall_list = list()\n",
    "f1_list = list()\n",
    "\n",
    "for b in tqdm(b_list):\n",
    "    query_time, precision, recall, f1 = query_analysis(signatures, b, s, numConditionPositives)\n",
    "    \n",
    "    query_time_list.append(query_time)\n",
    "    precision_list.append(precision)\n",
    "    recall_list.append(recall)\n",
    "    f1_list.append(f1)"
   ]
  },
  {
   "cell_type": "code",
   "execution_count": 35,
   "metadata": {},
   "outputs": [
    {
     "name": "stdout",
     "output_type": "stream",
     "text": [
      "b:  [1, 2, 4, 5, 10, 20, 25, 50, 100]\n",
      "Query times:  [0.4562802314758301, 0.284761905670166, 0.5345544815063477, 0.5704622268676758, 0.9000422954559326, 1.581861972808838, 1.9276137351989746, 3.863903522491455, 7.186660051345825]\n",
      "Precisions:  [1.0, 1.0, 1.0, 1.0, 0.9197530864197531, 0.5571955719557196, 0.3511627906976744, 0.050333333333333334, 0.002708908901725808]\n",
      "Recalls:  [0.6556291390728477, 0.6688741721854304, 0.7549668874172185, 0.8145695364238411, 0.9867549668874173, 1.0, 1.0, 1.0, 1.0]\n",
      "F1 scores:  [0.792, 0.8015873015873015, 0.8603773584905661, 0.8978102189781023, 0.952076677316294, 0.7156398104265402, 0.5197934595524957, 0.09584258965407808, 0.005403181078131429]\n"
     ]
    }
   ],
   "source": [
    "print(\"b: \", b_list)\n",
    "print(\"Query times: \", query_time_list)\n",
    "print(\"Precisions: \", precision_list)\n",
    "print(\"Recalls: \", recall_list)\n",
    "print(\"F1 scores: \", f1_list)"
   ]
  },
  {
   "cell_type": "code",
   "execution_count": 36,
   "metadata": {},
   "outputs": [
    {
     "data": {
      "image/png": "[encoded data removed]",
      "text/plain": [
       "<Figure size 432x288 with 1 Axes>"
      ]
     },
     "metadata": {
      "needs_background": "light"
     },
     "output_type": "display_data"
    }
   ],
   "source": [
    "plt.title(f\"Query time (s={s})\")\n",
    "plt.xlabel(\"b\")\n",
    "plt.ylabel(\"Query time [sec]\")\n",
    "plt.plot(b_list, query_time_list)\n",
    "plt.show()"
   ]
  },
  {
   "cell_type": "code",
   "execution_count": 37,
   "metadata": {},
   "outputs": [
    {
     "data": {
      "image/png": "[encoded data removed]",
      "text/plain": [
       "<Figure size 432x288 with 1 Axes>"
      ]
     },
     "metadata": {
      "needs_background": "light"
     },
     "output_type": "display_data"
    }
   ],
   "source": [
    "plt.title(f\"Precision (s={s})\")\n",
    "plt.xlabel(\"b\")\n",
    "plt.ylabel(\"Precision\")\n",
    "plt.plot(b_list, precision_list)\n",
    "plt.show()"
   ]
  },
  {
   "cell_type": "code",
   "execution_count": 38,
   "metadata": {},
   "outputs": [
    {
     "data": {
      "image/png": "[encoded data removed]",
      "text/plain": [
       "<Figure size 432x288 with 1 Axes>"
      ]
     },
     "metadata": {
      "needs_background": "light"
     },
     "output_type": "display_data"
    }
   ],
   "source": [
    "plt.title(f\"Recall (s={s})\")\n",
    "plt.xlabel(\"b\")\n",
    "plt.ylabel(\"Recall\")\n",
    "plt.plot(b_list, recall_list)\n",
    "plt.show()"
   ]
  },
  {
   "cell_type": "code",
   "execution_count": 39,
   "metadata": {},
   "outputs": [
    {
     "data": {
      "image/png": "[encoded data removed]",
      "text/plain": [
       "<Figure size 432x288 with 1 Axes>"
      ]
     },
     "metadata": {
      "needs_background": "light"
     },
     "output_type": "display_data"
    }
   ],
   "source": [
    "plt.title(f\"F1 Score (s={s})\")\n",
    "plt.xlabel(\"b\")\n",
    "plt.ylabel(\"F1 Score\")\n",
    "plt.plot(b_list, f1_list)\n",
    "plt.show()"
   ]
  },
  {
   "cell_type": "code",
   "execution_count": 40,
   "metadata": {},
   "outputs": [
    {
     "name": "stdout",
     "output_type": "stream",
     "text": [
      "-----Test results-----\n",
      "[Test 1.1 (1)]: Passed\n",
      "[Test 1.1 (2)]: Passed\n",
      "[Test 1.2]: Passed\n",
      "[Test 2.1]: Passed\n",
      "[Test 2.2]: Passed\n",
      "----------------------\n"
     ]
    }
   ],
   "source": [
    "# Check whether the test passed\n",
    "test_msg = {True: \"Passed\", False: \"Failed\"}\n",
    "\n",
    "print(\"-----Test results-----\")\n",
    "print(f\"[Test 1.1 (1)]: {test_msg[pass_test1_1_1]}\")\n",
    "print(f\"[Test 1.1 (2)]: {test_msg[pass_test1_1_2]}\")\n",
    "print(f\"[Test 1.2]: {test_msg[pass_test1_2]}\")\n",
    "print(f\"[Test 2.1]: {test_msg[pass_test2_1]}\")\n",
    "print(f\"[Test 2.2]: {test_msg[pass_test2_2]}\")\n",
    "print(\"----------------------\")"
   ]
  },
  {
   "cell_type": "code",
   "execution_count": null,
   "metadata": {},
   "outputs": [],
   "source": []
  }
 ],
 "metadata": {
  "kernelspec": {
   "display_name": "Python 3",
   "language": "python",
   "name": "python3"
  },
  "language_info": {
   "codemirror_mode": {
    "name": "ipython",
    "version": 3
   },
   "file_extension": ".py",
   "mimetype": "text/x-python",
   "name": "python",
   "nbconvert_exporter": "python",
   "pygments_lexer": "ipython3",
   "version": "3.7.6"
  }
 },
 "nbformat": 4,
 "nbformat_minor": 4
}
