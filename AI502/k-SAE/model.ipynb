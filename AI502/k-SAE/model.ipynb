{
 "cells": [
  {
   "cell_type": "code",
   "execution_count": null,
   "metadata": {},
   "outputs": [],
   "source": [
    "#!/usr/bin/env python\n",
    "# coding: utf-8\n",
    "\n",
    "# In[ ]:\n",
    "\n",
    "\n",
    "import torch\n",
    "import torch.nn as nn\n",
    "import numpy as np\n",
    "\n",
    "class SparseAutoEncoder(nn.Module):\n",
    "    def __init__(self, nin, nhidden, nout, sparsity=10):\n",
    "        super(SparseAutoEncoder, self).__init__()\n",
    "        self.encoder = nn.Linear(nin, nhidden)\n",
    "        self.decoder = nn.Linear(nhidden, nout)\n",
    "        self.sparsity = sparsity\n",
    "        self.name = 'SparseAutoEncoder%d' %(sparsity)\n",
    "        \n",
    "    def forward(self, x):\n",
    "        output = self.encoder(x)\n",
    "        \n",
    "        # leave k largest activations of z and set the rest to zero\n",
    "        values, indices = torch.topk(output, self.sparsity, dim=1)\n",
    "        for i in range(output.size(0)):\n",
    "            mask = np.zeros(output.size(1))\n",
    "            for j in indices[i]:\n",
    "                mask[j] = 1\n",
    "            output[i] = torch.mul(output[i], torch.from_numpy(mask).cuda())\n",
    "            \n",
    "        output = self.decoder(output)\n",
    "        \n",
    "        return output\n",
    "\n",
    "    \n",
    "class AutoEncoder(nn.Module):\n",
    "    def __init__(self, nin, nhidden, nout):\n",
    "        super(AutoEncoder, self).__init__()\n",
    "        self.encoder = nn.Linear(nin, nhidden)\n",
    "        self.decoder = nn.Linear(nhidden, nout)\n",
    "        self.sigmoid = nn.Sigmoid()\n",
    "        self.name = 'AutoEncoder'\n",
    "    \n",
    "    def forward(self, x):\n",
    "        output = self.sigmoid(self.encoder(x))\n",
    "        output = self.sigmoid(self.decoder(output))\n",
    "        return output\n"
   ]
  },
  {
   "cell_type": "code",
   "execution_count": null,
   "metadata": {},
   "outputs": [],
   "source": []
  }
 ],
 "metadata": {
  "kernelspec": {
   "display_name": "Python 3",
   "language": "python",
   "name": "python3"
  },
  "language_info": {
   "codemirror_mode": {
    "name": "ipython",
    "version": 3
   },
   "file_extension": ".py",
   "mimetype": "text/x-python",
   "name": "python",
   "nbconvert_exporter": "python",
   "pygments_lexer": "ipython3",
   "version": "3.7.4"
  }
 },
 "nbformat": 4,
 "nbformat_minor": 4
}
