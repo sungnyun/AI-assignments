{
 "cells": [
  {
   "cell_type": "code",
   "execution_count": null,
   "metadata": {},
   "outputs": [],
   "source": [
    "#!/usr/bin/env python\n",
    "# coding: utf-8\n",
    "\n",
    "# In[ ]:\n",
    "\n",
    "\n",
    "'''\n",
    "For experiment 1 #CIFAR10, run python main.py --exp='CIFAR10' --resolution=3072\n",
    "For experiment 2 #MNIST, run python main.py --exp='MNIST' \n",
    "'''\n",
    "\n",
    "\n",
    "import torch\n",
    "import torch.nn as nn\n",
    "import torch.utils.data as data\n",
    "import torchvision.transforms as transforms\n",
    "import torchvision.datasets as datasets\n",
    "import argparse\n",
    "from model import SparseAutoEncoder, AutoEncoder\n",
    "from utils import *\n",
    "\n",
    "parser = argparse.ArgumentParser()\n",
    "parser.add_argument('--exp', dest='experiment', help='MNIST or CIFAR10', type=str, default='MNIST')\n",
    "parser.add_argument('--resolution', dest='res', type=int, default=28*28)\n",
    "parser.add_argument('--hidden', dest='hidden', type=int, default=1000)\n",
    "parser.add_argument('--sparsity', dest='sparsity', type=int, default=50)\n",
    "parser.add_argument('--lr', dest='learning_rate', type=float, default=0.001)\n",
    "parser.add_argument('--num_epoch', dest='num_epoch', type=int, default=30)\n",
    "parser.add_argument('--batch_size', dest='batch_size', type=int, default=512)\n",
    "parser.add_argument('--test_batch_size', dest='test_batch_size', type=int, default=10)\n",
    "args = parser.parse_args()\n",
    "\n",
    "\n",
    "if args.experiment == 'CIFAR10':\n",
    "    transform = transforms.Compose([transforms.RandomHorizontalFlip(),\n",
    "                                    transforms.RandomCrop(32, padding=4),\n",
    "                                    transforms.ToTensor()])\n",
    "    trainset = datasets.CIFAR10(\"../data/\", train=True, transform=transform, download=True)\n",
    "    testset = datasets.CIFAR10(\"../data/\", train=False, transform=transforms.ToTensor(), download=True)\n",
    "    trainloader = data.DataLoader(trainset, batch_size=args.batch_size, shuffle=True)\n",
    "    testloader = data.DataLoader(testset, batch_size=args.test_batch_size, shuffle=False)\n",
    "    \n",
    "    net = SparseAutoEncoder(args.res, args.hidden, args.res, sparsity=args.sparsity).cuda()\n",
    "    train(args, trainloader, net)\n",
    "    autoencoder = AutoEncoder(args.res, args.hidden, args.res).cuda()\n",
    "    train(args, trainloader, autoencoder)\n",
    "    CIFAR_visualize(args, testloader)\n",
    "    \n",
    "elif args.experiment == 'MNIST':\n",
    "    # In experiment 2, only train SAE and visualize filters, so no need for testset.\n",
    "    trainset = datasets.MNIST(\"../data/\", train=True, transform=transforms.ToTensor())\n",
    "    trainloader = data.DataLoader(trainset, batch_size=args.batch_size, shuffle=True)\n",
    "    \n",
    "    for sparsity in [70, 40, 25, 10]:\n",
    "        net = SparseAutoEncoder(args.res, args.hidden, args.res, sparsity=sparsity).cuda()\n",
    "        train(args, trainloader, net)\n",
    "    MNIST_visualize(args)\n",
    "\n"
   ]
  },
  {
   "cell_type": "code",
   "execution_count": null,
   "metadata": {},
   "outputs": [],
   "source": []
  }
 ],
 "metadata": {
  "kernelspec": {
   "display_name": "Python 3",
   "language": "python",
   "name": "python3"
  },
  "language_info": {
   "codemirror_mode": {
    "name": "ipython",
    "version": 3
   },
   "file_extension": ".py",
   "mimetype": "text/x-python",
   "name": "python",
   "nbconvert_exporter": "python",
   "pygments_lexer": "ipython3",
   "version": "3.7.4"
  }
 },
 "nbformat": 4,
 "nbformat_minor": 4
}
