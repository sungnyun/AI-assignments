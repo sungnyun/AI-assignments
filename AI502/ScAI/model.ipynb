{
 "cells": [
  {
   "cell_type": "code",
   "execution_count": 1,
   "metadata": {},
   "outputs": [],
   "source": [
    "import torch.nn as nn\n",
    "\n",
    "\n",
    "class SimpleRNN(nn.Module):\n",
    "    def __init__(self, num_features, name='RNN', seq_length=100, hidden_size=128):\n",
    "        super(SimpleRNN, self).__init__()\n",
    "        self.num_features = num_features\n",
    "        self.seq_length = seq_length\n",
    "        self.hidden_size = hidden_size\n",
    "        self.name = name\n",
    "        if self.name == 'RNN':\n",
    "            self.rnn = nn.RNN(input_size=self.num_features, hidden_size=self.hidden_size, num_layers=2, dropout=0.1, batch_first=True)\n",
    "        elif self.name == 'LSTM':\n",
    "            self.rnn = nn.LSTM(input_size=self.num_features, hidden_size=self.hidden_size, num_layers=2, dropout=0.1, batch_first=True)\n",
    "        self.linear = nn.Linear(self.hidden_size*2, 1)\n",
    "        self.sigmoid = nn.Sigmoid()\n",
    "        \n",
    "    def forward(self, x):\n",
    "        if self.name == 'LSTM':\n",
    "            output, (h_n, c_n) = self.rnn(x)\n",
    "        else:\n",
    "            output, h_n = self.rnn(x)\n",
    "                   \n",
    "        h_n = h_n.reshape(h_n.size(1), 1, -1).squeeze()\n",
    "        output = self.sigmoid(self.linear(h_n))\n",
    "        #output = output.reshape(output.size(0), output.size(1), -1)\n",
    "        #output = self.linear(output)\n",
    "        \n",
    "        return output"
   ]
  },
  {
   "cell_type": "code",
   "execution_count": null,
   "metadata": {},
   "outputs": [],
   "source": []
  }
 ],
 "metadata": {
  "kernelspec": {
   "display_name": "Python 3",
   "language": "python",
   "name": "python3"
  },
  "language_info": {
   "codemirror_mode": {
    "name": "ipython",
    "version": 3
   },
   "file_extension": ".py",
   "mimetype": "text/x-python",
   "name": "python",
   "nbconvert_exporter": "python",
   "pygments_lexer": "ipython3",
   "version": "3.7.4"
  }
 },
 "nbformat": 4,
 "nbformat_minor": 4
}
