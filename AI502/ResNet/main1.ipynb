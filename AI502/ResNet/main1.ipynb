{
 "cells": [
  {
   "cell_type": "code",
   "execution_count": 1,
   "metadata": {},
   "outputs": [
    {
     "name": "stdout",
     "output_type": "stream",
     "text": [
      "importing Jupyter notebook from model.ipynb\n"
     ]
    }
   ],
   "source": [
    "import import_ipynb\n",
    "from model import *\n",
    "torch.cuda.set_device(3)"
   ]
  },
  {
   "cell_type": "code",
   "execution_count": 2,
   "metadata": {},
   "outputs": [
    {
     "name": "stdout",
     "output_type": "stream",
     "text": [
      "Files already downloaded and verified\n",
      "Files already downloaded and verified\n"
     ]
    }
   ],
   "source": [
    "# followed \"Deeply supervised nets.\" arXiv:1409.5185, 2014.\n",
    "transform = transforms.Compose([transforms.RandomHorizontalFlip(),\n",
    "                                transforms.RandomCrop(32, padding=4),\n",
    "                                transforms.ToTensor()])\n",
    "\n",
    "train_dataset = torchvision.datasets.CIFAR10(root='./data/',\n",
    "                                             train=True, \n",
    "                                             transform=transform,\n",
    "                                             download=True)\n",
    "# validation - in experiment, no need\n",
    "'''\n",
    "valid_dataset = torchvision.datasets.CIFAR10(root='./data/',\n",
    "                                            train=True, \n",
    "                                            transform=transforms.ToTensor(),\n",
    "                                            download=True)\n",
    "'''\n",
    "test_dataset = torchvision.datasets.CIFAR10(root='./data/',\n",
    "                                            train=False, \n",
    "                                            transform=transforms.ToTensor(),\n",
    "                                            download=True)\n",
    "\n",
    "# validation - in experiment, no need\n",
    "'''\n",
    "num_trainset = len(train_dataset)\n",
    "splitidx = int(0.1 * num_trainset)    # val. ratio from the paper\n",
    "indices = list(range(num_trainset))\n",
    "\n",
    "random_seed = 10\n",
    "np.random.seed(random_seed)\n",
    "np.random.shuffle(indices)\n",
    "\n",
    "train_idx = indices[splitidx:]\n",
    "valid_idx = indices[:splitidx]\n",
    "train_sampler = SubsetRandomSampler(train_idx)\n",
    "valid_sampler = SubsetRandomSampler(valid_idx)\n",
    "\n",
    "# validation - in experiment, no need\n",
    "\n",
    "train_loader = torch.utils.data.DataLoader(dataset=train_dataset,\n",
    "                                           batch_size=128,\n",
    "                                           sampler = train_sampler)                                           \n",
    "\n",
    "valid_loader = torch.utils.data.DataLoader(dataset=valid_dataset,\n",
    "                                           batch_size=128,\n",
    "                                           sampler = valid_sampler)\n",
    "'''\n",
    "train_loader = torch.utils.data.DataLoader(dataset=train_dataset,\n",
    "                                           batch_size=128,\n",
    "                                           shuffle=True) \n",
    "\n",
    "test_loader = torch.utils.data.DataLoader(dataset=test_dataset,\n",
    "                                          batch_size=128, \n",
    "                                          shuffle=False)"
   ]
  },
  {
   "cell_type": "code",
   "execution_count": 3,
   "metadata": {},
   "outputs": [],
   "source": [
    "net = ResNet32().to(device)"
   ]
  },
  {
   "cell_type": "code",
   "execution_count": 5,
   "metadata": {},
   "outputs": [
    {
     "name": "stdout",
     "output_type": "stream",
     "text": [
      "Epoch [10/200], Loss: 0.5528\n",
      "Epoch [20/200], Loss: 0.4614\n",
      "Epoch [30/200], Loss: 0.3174\n",
      "Epoch [40/200], Loss: 0.1663\n",
      "Epoch [50/200], Loss: 0.5072\n",
      "Epoch [60/200], Loss: 0.2439\n",
      "Epoch [70/200], Loss: 0.0935\n",
      "Epoch [80/200], Loss: 0.2199\n",
      "Epoch [90/200], Loss: 0.1851\n",
      "Epoch [100/200], Loss: 0.0717\n",
      "Epoch [110/200], Loss: 0.0096\n",
      "Epoch [120/200], Loss: 0.0290\n",
      "Epoch [130/200], Loss: 0.0532\n",
      "Epoch [140/200], Loss: 0.0042\n",
      "Epoch [150/200], Loss: 0.0105\n",
      "Epoch [160/200], Loss: 0.0158\n",
      "Test Accuracy: 92.17 %\n"
     ]
    }
   ],
   "source": [
    "learning_rate=0.1    \n",
    "num_epochs = 200\n",
    "criterion = nn.CrossEntropyLoss()\n",
    "optimizer = torch.optim.SGD(net.parameters(), lr=learning_rate, momentum=0.9, weight_decay=0.0001)\n",
    "\n",
    "def update_lr(optimizer, lr):\n",
    "    for param_group in optimizer.param_groups:\n",
    "        param_group['lr'] = lr\n",
    "        \n",
    "# training\n",
    "total_step = len(train_loader)\n",
    "iteration=0\n",
    "\n",
    "for epoch in range(num_epochs):\n",
    "    for i, (images, labels) in enumerate(train_loader):\n",
    "        images = images.to(device)\n",
    "        labels = labels.to(device)\n",
    "        output = net(images)\n",
    "        loss = criterion(output, labels)\n",
    "\n",
    "        optimizer.zero_grad()\n",
    "        loss.backward()\n",
    "        optimizer.step()\n",
    "\n",
    "        iteration += 1\n",
    "\n",
    "    # validation - in experiment, no need\n",
    "    '''\n",
    "    with torch.no_grad():\n",
    "        correct = 0\n",
    "        total = 0\n",
    "        for j, (vimages, vlabels) in enumerate(valid_loader):\n",
    "            vimages = vimages.to(device)\n",
    "            vlabels = vlabels.to(device)\n",
    "            output = net(vimages)\n",
    "            _, predict = torch.max(output.data, 1)\n",
    "            total += vlabels.size(0)\n",
    "            correct += (predict==vlabels).sum().item()\n",
    "        print(\"Epoch [{}/{}], Validation Accuracy: {:.2f}%\".format(epoch+1, num_epochs, (correct/total)*100))\n",
    "    '''\n",
    "    \n",
    "    #debugging\n",
    "    if (epoch+1) % 10 == 0:\n",
    "            print (\"Epoch [{}/{}], Loss: {:.4f}\".format(epoch+1, num_epochs, loss.item()))\n",
    "    \n",
    "    # lr decay at 32k & 48k iter, according to the paper\n",
    "    if epoch == 80 or epoch == 120:\n",
    "        learning_rate /= 10\n",
    "        update_lr(optimizer, learning_rate)  \n",
    "    # termination at 64k iter, according to the paper\n",
    "    if iteration > 64000:\n",
    "        torch.save(net.state_dict(), \"./resnet.pth\")\n",
    "        break\n",
    "        \n",
    "# test\n",
    "net.eval()\n",
    "with torch.no_grad():\n",
    "    correct = 0\n",
    "    total = 0\n",
    "    for i, (images, labels) in enumerate(test_loader):\n",
    "        images = images.to(device)\n",
    "        labels = labels.to(device)\n",
    "        output = net(images)\n",
    "        _, predict = torch.max(output.data, 1)\n",
    "        total += labels.size(0)\n",
    "        correct += (predict==labels).sum().item()\n",
    "\n",
    "    print('Test Accuracy: {} %'.format(100*(correct/total)))"
   ]
  },
  {
   "cell_type": "code",
   "execution_count": null,
   "metadata": {},
   "outputs": [],
   "source": []
  }
 ],
 "metadata": {
  "kernelspec": {
   "display_name": "Python 3",
   "language": "python",
   "name": "python3"
  },
  "language_info": {
   "codemirror_mode": {
    "name": "ipython",
    "version": 3
   },
   "file_extension": ".py",
   "mimetype": "text/x-python",
   "name": "python",
   "nbconvert_exporter": "python",
   "pygments_lexer": "ipython3",
   "version": "3.7.3"
  }
 },
 "nbformat": 4,
 "nbformat_minor": 4
}
