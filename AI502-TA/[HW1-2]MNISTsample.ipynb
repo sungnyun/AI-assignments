{
 "cells": [
  {
   "cell_type": "markdown",
   "metadata": {
    "colab_type": "text",
    "id": "EFRmSlV847CF"
   },
   "source": [
    "## MNIST "
   ]
  },
  {
   "cell_type": "code",
   "execution_count": 34,
   "metadata": {
    "colab": {},
    "colab_type": "code",
    "id": "DPRhJ_m34-PB"
   },
   "outputs": [],
   "source": [
    "import os\n",
    "import torch\n",
    "import torch.nn as nn\n",
    "import torchvision.datasets as dset\n",
    "import torchvision.transforms as transforms\n",
    "import torch.nn.functional as F\n",
    "import torch.optim as optim\n",
    "\n",
    "import matplotlib.pyplot as plt"
   ]
  },
  {
   "cell_type": "code",
   "execution_count": 35,
   "metadata": {
    "colab": {},
    "colab_type": "code",
    "id": "mBis_QFoHJ0S"
   },
   "outputs": [],
   "source": [
    "root = './data'\n",
    "if not os.path.exists(root):\n",
    "    os.mkdir(root)"
   ]
  },
  {
   "cell_type": "code",
   "execution_count": 36,
   "metadata": {
    "colab": {},
    "colab_type": "code",
    "id": "8b7iFmMoHOsy"
   },
   "outputs": [],
   "source": [
    "train_set = dset.MNIST(root=root, train=True, transform=transforms.ToTensor(), download=True)\n",
    "test_set = dset.MNIST(root=root, train=False, transform=transforms.ToTensor(), download=True)"
   ]
  },
  {
   "cell_type": "code",
   "execution_count": 37,
   "metadata": {},
   "outputs": [
    {
     "data": {
      "image/png": "[encoded data removed]",
      "text/plain": [
       "<matplotlib.figure.Figure at 0x7f874cf2fc18>"
      ]
     },
     "metadata": {
      "needs_background": "light"
     },
     "output_type": "display_data"
    }
   ],
   "source": [
    "import random \n",
    "\n",
    "tensor_to_PIL = transforms.ToPILImage()\n",
    "\n",
    "rand_idx_lst = random.sample(range(50000), 10)\n",
    "fig, axes = plt.subplots(1, 10, figsize=(20, 5))\n",
    "\n",
    "for idx in range(len(axes)):\n",
    "    axes[idx].imshow(tensor_to_PIL(train_set[rand_idx_lst[idx]][0]))\n",
    "        \n",
    "plt.show()\n",
    "plt.close()"
   ]
  },
  {
   "cell_type": "code",
   "execution_count": 38,
   "metadata": {
    "colab": {},
    "colab_type": "code",
    "id": "mrMhrECTHkky"
   },
   "outputs": [],
   "source": [
    "batch_size = 100\n",
    "total_epoch = 10\n",
    "learning_rate = 0.01\n",
    "use_cuda = torch.cuda.is_available() # [Question 1] What is role of torch.cuda.is_available?"
   ]
  },
  {
   "cell_type": "code",
   "execution_count": 39,
   "metadata": {
    "colab": {},
    "colab_type": "code",
    "id": "qEPSA3LuPazn"
   },
   "outputs": [],
   "source": [
    "train_loader = torch.utils.data.DataLoader(  # [Question 2] What is role of torch.utils.data.DataLoader?\n",
    "                 dataset=train_set,\n",
    "                 batch_size=batch_size,\n",
    "                 shuffle=True)\n",
    "test_loader = torch.utils.data.DataLoader(\n",
    "                dataset=test_set,\n",
    "                batch_size=batch_size,\n",
    "                shuffle=False)"
   ]
  },
  {
   "cell_type": "code",
   "execution_count": 40,
   "metadata": {
    "colab": {
     "base_uri": "https://localhost:8080/",
     "height": 53
    },
    "colab_type": "code",
    "id": "SY7sfFkUPigu",
    "outputId": "a90f9a16-0f3d-4964-d38f-c060c66fbbd9"
   },
   "outputs": [
    {
     "name": "stdout",
     "output_type": "stream",
     "text": [
      "==>>> total trainning batch number: 600\n",
      "==>>> total testing batch number: 100\n"
     ]
    }
   ],
   "source": [
    "print('==>>> total trainning batch number: {}'.format(len(train_loader)))\n",
    "print('==>>> total testing batch number: {}'.format(len(test_loader)))"
   ]
  },
  {
   "cell_type": "code",
   "execution_count": 41,
   "metadata": {
    "colab": {},
    "colab_type": "code",
    "id": "XMLKxM6lPk2F"
   },
   "outputs": [],
   "source": [
    "class MLPNet(nn.Module):\n",
    "    def __init__(self):\n",
    "        super(MLPNet, self).__init__()\n",
    "        self.fc1 = nn.Linear(28*28, 500) # [Question 3]What is role of nn.Linear?\n",
    "        self.fc2 = nn.Linear(500, 256)\n",
    "        self.fc3 = nn.Linear(256, 10)\n",
    "    def forward(self, x):\n",
    "        x = x.view(-1, 28*28) # [Question 4] (4-1)What is role of view? (4-2)What does '-1' mean?\n",
    "        x = F.relu(self.fc1(x))\n",
    "        x = F.relu(self.fc2(x))\n",
    "        x = self.fc3(x)\n",
    "        return x\n",
    "    \n",
    "    def name(self):\n",
    "        return \"MLP\""
   ]
  },
  {
   "cell_type": "code",
   "execution_count": 42,
   "metadata": {
    "colab": {},
    "colab_type": "code",
    "id": "GlyL40rSPxDO"
   },
   "outputs": [],
   "source": [
    "model = MLPNet()\n",
    "\n",
    "if use_cuda:\n",
    "    model = model.cuda()"
   ]
  },
  {
   "cell_type": "code",
   "execution_count": 44,
   "metadata": {
    "colab": {},
    "colab_type": "code",
    "id": "LHB6pCrAQJes"
   },
   "outputs": [],
   "source": [
    "optimizer = optim.SGD(model.parameters(), lr=learning_rate) # [Question 5] What is role of SGD?\n",
    "criterion = nn.CrossEntropyLoss() # [Question 6] What is role of CrossEntropyLoss?"
   ]
  },
  {
   "cell_type": "code",
   "execution_count": 45,
   "metadata": {
    "colab": {
     "base_uri": "https://localhost:8080/",
     "height": 1000
    },
    "colab_type": "code",
    "id": "iDz8qyb5SJjX",
    "outputId": "11a2f5d3-1943-4757-a4eb-b72d927dd40a"
   },
   "outputs": [
    {
     "name": "stdout",
     "output_type": "stream",
     "text": [
      "==>>> epoch: 0, batch index: 100, train loss: 2.287267\n",
      "==>>> epoch: 0, batch index: 200, train loss: 2.265424\n",
      "==>>> epoch: 0, batch index: 300, train loss: 2.233559\n",
      "==>>> epoch: 0, batch index: 400, train loss: 2.186270\n",
      "==>>> epoch: 0, batch index: 500, train loss: 2.113461\n",
      "==>>> epoch: 0, batch index: 600, train loss: 2.015394\n",
      "==>>> epoch: 0, batch index: 100, test loss: 1.351651, acc: 0.752\n",
      "==>>> epoch: 1, batch index: 100, train loss: 1.224529\n",
      "==>>> epoch: 1, batch index: 200, train loss: 1.107911\n",
      "==>>> epoch: 1, batch index: 300, train loss: 1.020401\n",
      "==>>> epoch: 1, batch index: 400, train loss: 0.944706\n",
      "==>>> epoch: 1, batch index: 500, train loss: 0.887601\n",
      "==>>> epoch: 1, batch index: 600, train loss: 0.836507\n",
      "==>>> epoch: 1, batch index: 100, test loss: 0.550035, acc: 0.860\n",
      "==>>> epoch: 2, batch index: 100, train loss: 0.542005\n",
      "==>>> epoch: 2, batch index: 200, train loss: 0.534218\n",
      "==>>> epoch: 2, batch index: 300, train loss: 0.519469\n",
      "==>>> epoch: 2, batch index: 400, train loss: 0.505725\n",
      "==>>> epoch: 2, batch index: 500, train loss: 0.495644\n",
      "==>>> epoch: 2, batch index: 600, train loss: 0.484812\n",
      "==>>> epoch: 2, batch index: 100, test loss: 0.410826, acc: 0.887\n",
      "==>>> epoch: 3, batch index: 100, train loss: 0.422011\n",
      "==>>> epoch: 3, batch index: 200, train loss: 0.414910\n",
      "==>>> epoch: 3, batch index: 300, train loss: 0.407249\n",
      "==>>> epoch: 3, batch index: 400, train loss: 0.401678\n",
      "==>>> epoch: 3, batch index: 500, train loss: 0.400624\n",
      "==>>> epoch: 3, batch index: 600, train loss: 0.396177\n",
      "==>>> epoch: 3, batch index: 100, test loss: 0.355010, acc: 0.900\n",
      "==>>> epoch: 4, batch index: 100, train loss: 0.361124\n",
      "==>>> epoch: 4, batch index: 200, train loss: 0.364830\n",
      "==>>> epoch: 4, batch index: 300, train loss: 0.361803\n",
      "==>>> epoch: 4, batch index: 400, train loss: 0.360067\n",
      "==>>> epoch: 4, batch index: 500, train loss: 0.357766\n",
      "==>>> epoch: 4, batch index: 600, train loss: 0.355581\n",
      "==>>> epoch: 4, batch index: 100, test loss: 0.325940, acc: 0.907\n",
      "==>>> epoch: 5, batch index: 100, train loss: 0.334304\n",
      "==>>> epoch: 5, batch index: 200, train loss: 0.339239\n",
      "==>>> epoch: 5, batch index: 300, train loss: 0.335887\n",
      "==>>> epoch: 5, batch index: 400, train loss: 0.334066\n",
      "==>>> epoch: 5, batch index: 500, train loss: 0.331580\n",
      "==>>> epoch: 5, batch index: 600, train loss: 0.329875\n",
      "==>>> epoch: 5, batch index: 100, test loss: 0.307831, acc: 0.913\n",
      "==>>> epoch: 6, batch index: 100, train loss: 0.319363\n",
      "==>>> epoch: 6, batch index: 200, train loss: 0.315257\n",
      "==>>> epoch: 6, batch index: 300, train loss: 0.312497\n",
      "==>>> epoch: 6, batch index: 400, train loss: 0.311408\n",
      "==>>> epoch: 6, batch index: 500, train loss: 0.310795\n",
      "==>>> epoch: 6, batch index: 600, train loss: 0.311267\n",
      "==>>> epoch: 6, batch index: 100, test loss: 0.289933, acc: 0.918\n",
      "==>>> epoch: 7, batch index: 100, train loss: 0.305033\n",
      "==>>> epoch: 7, batch index: 200, train loss: 0.297452\n",
      "==>>> epoch: 7, batch index: 300, train loss: 0.297039\n",
      "==>>> epoch: 7, batch index: 400, train loss: 0.297590\n",
      "==>>> epoch: 7, batch index: 500, train loss: 0.296853\n",
      "==>>> epoch: 7, batch index: 600, train loss: 0.295759\n",
      "==>>> epoch: 7, batch index: 100, test loss: 0.276862, acc: 0.921\n",
      "==>>> epoch: 8, batch index: 100, train loss: 0.277375\n",
      "==>>> epoch: 8, batch index: 200, train loss: 0.276841\n",
      "==>>> epoch: 8, batch index: 300, train loss: 0.282066\n",
      "==>>> epoch: 8, batch index: 400, train loss: 0.282230\n",
      "==>>> epoch: 8, batch index: 500, train loss: 0.281732\n",
      "==>>> epoch: 8, batch index: 600, train loss: 0.282455\n",
      "==>>> epoch: 8, batch index: 100, test loss: 0.267599, acc: 0.925\n",
      "==>>> epoch: 9, batch index: 100, train loss: 0.274599\n",
      "==>>> epoch: 9, batch index: 200, train loss: 0.268849\n",
      "==>>> epoch: 9, batch index: 300, train loss: 0.274129\n",
      "==>>> epoch: 9, batch index: 400, train loss: 0.273846\n",
      "==>>> epoch: 9, batch index: 500, train loss: 0.272194\n",
      "==>>> epoch: 9, batch index: 600, train loss: 0.270757\n",
      "==>>> epoch: 9, batch index: 100, test loss: 0.257622, acc: 0.928\n"
     ]
    }
   ],
   "source": [
    "for epoch in range(total_epoch):\n",
    "    # trainning\n",
    "    total_loss = 0\n",
    "    total_batch = 0\n",
    "    for batch_idx, (x, target) in enumerate(train_loader):\n",
    "        optimizer.zero_grad() # [Question 7] What is role of zero_grad?\n",
    "        if use_cuda:\n",
    "            x, target = x.cuda(), target.cuda()\n",
    "            \n",
    "        out = model(x)\n",
    "        loss = criterion(out, target) # [Question 8] What is the output of criterion(out, target)?\n",
    "        total_loss += loss.item()\n",
    "        total_batch += 1\n",
    "        loss.backward() # [Question 9] What is role of backward?\n",
    "        optimizer.step() # [Question 10] What is role of step?\n",
    "        if (batch_idx+1) % 100 == 0 or (batch_idx+1) == len(train_loader):\n",
    "            print ('==>>> epoch: {}, batch index: {}, train loss: {:.6f}'\n",
    "                   .format(epoch, batch_idx+1, total_loss / total_batch))\n",
    "    \n",
    "    # testing\n",
    "    total_loss = 0\n",
    "    total_batch = 0\n",
    "    correct_cnt = 0\n",
    "    total_cnt = 0\n",
    "    \n",
    "    for batch_idx, (x, target) in enumerate(test_loader):\n",
    "        if use_cuda:\n",
    "            x, target = x.cuda(), target.cuda()\n",
    "            \n",
    "        out = model(x)\n",
    "        loss = criterion(out, target)\n",
    "        _, pred_label = torch.max(out.data, 1)\n",
    "        total_cnt += x.data.size()[0]\n",
    "        correct_cnt += (pred_label == target.data).sum().item()\n",
    "        \n",
    "        total_loss += loss.item()\n",
    "        total_batch += 1\n",
    "        \n",
    "        if(batch_idx+1) % 100 == 0 or (batch_idx+1) == len(test_loader):\n",
    "            print ('==>>> epoch: {}, batch index: {}, test loss: {:.6f}, acc: {:.3f}'\n",
    "                   .format(epoch, batch_idx+1, total_loss / total_batch, correct_cnt * 1.0 / total_cnt))"
   ]
  },
  {
   "cell_type": "code",
   "execution_count": null,
   "metadata": {},
   "outputs": [],
   "source": []
  }
 ],
 "metadata": {
  "accelerator": "GPU",
  "colab": {
   "name": "2. 딥러닝개론.ipynb",
   "provenance": []
  },
  "kernelspec": {
   "display_name": "Python 3",
   "language": "python",
   "name": "python3"
  },
  "language_info": {
   "codemirror_mode": {
    "name": "ipython",
    "version": 3
   },
   "file_extension": ".py",
   "mimetype": "text/x-python",
   "name": "python",
   "nbconvert_exporter": "python",
   "pygments_lexer": "ipython3",
   "version": "3.7.6"
  }
 },
 "nbformat": 4,
 "nbformat_minor": 4
}
